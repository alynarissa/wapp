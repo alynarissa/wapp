{
 "cells": [
  {
   "cell_type": "markdown",
   "metadata": {
    "collapsed": true
   },
   "source": [
    "# WhatsApp Chat Analysis"
   ]
  },
  {
   "cell_type": "markdown",
   "metadata": {},
   "source": [
    "## 1. Import Packages & Define Functions"
   ]
  },
  {
   "cell_type": "markdown",
   "metadata": {
    "collapsed": true
   },
   "source": [
    "File to be used: '../Data/whatsapplog.txt'"
   ]
  },
  {
   "cell_type": "code",
   "execution_count": 1,
   "metadata": {
    "collapsed": true
   },
   "outputs": [],
   "source": [
    "from __future__ import print_function\n",
    "\n",
    "from datetime import datetime\n",
    "import re\n",
    "\n",
    "import numpy as np\n",
    "import pandas as pd"
   ]
  },
  {
   "cell_type": "code",
   "execution_count": 2,
   "metadata": {
    "collapsed": false
   },
   "outputs": [],
   "source": [
    "def read_file(filename):\n",
    "    \"\"\"Reads in a text file and separates all the chat lines.\n",
    "    \n",
    "    ::filename [str]:: Path to file\n",
    "    ::return [list]:: List containing all the content in the file.\n",
    "    Each element of the list is a line in the file.\n",
    "    \"\"\"\n",
    "    \n",
    "    raw_data = []\n",
    "    file = open(filename, encoding = 'utf8')\n",
    "    for line in file:\n",
    "        line = line.rstrip()\n",
    "        raw_data.append(line)\n",
    "        \n",
    "    return raw_data"
   ]
  },
  {
   "cell_type": "code",
   "execution_count": 4,
   "metadata": {
    "collapsed": false
   },
   "outputs": [],
   "source": [
    "def clean_dataset(data):\n",
    "    \"\"\"Parses a line of data to a usable format.\n",
    "    \n",
    "    ::data[list]:: List of all file contents. Each element is a new line.\n",
    "    ::return[Pandas DF]:: Returns a Pandas dataframe of the message. It contains three columns:\n",
    "        *datetime[datetime]* When a message was sent.\n",
    "        *name[str]* Who sent the message.\n",
    "        *message[str]* Content of the message.\n",
    "        \n",
    "    TODO: make data lowercase, remove punctuation, what format is data in each col?\n",
    "    \"\"\"\n",
    "    \n",
    "    regexHeader = re.compile(r\"(?P<datetime>\\d{2}/\\d{2}/\\d{4}[^-]+)\\s+-\\s+(?P<name>[^:]+):\\s+(?P<message>[\\s\\S]+?)(?=^\\d{2}|\\Z)\", flags=re.M)\n",
    "    \n",
    "    columns = ['datetime','name', 'message']\n",
    "    df = pd.DataFrame(columns = columns)\n",
    "    \n",
    "    for line in data:\n",
    "        try:\n",
    "            dict = regexHeader.match(line)\n",
    "            dict = dict.groupdict()\n",
    "            df = df.append(dict, ignore_index = True)\n",
    "        except:\n",
    "            continue\n",
    "    \n",
    "    return df\n",
    "    "
   ]
  },
  {
   "cell_type": "markdown",
   "metadata": {},
   "source": [
    "## 2. Read in Data"
   ]
  },
  {
   "cell_type": "code",
   "execution_count": null,
   "metadata": {
    "collapsed": true
   },
   "outputs": [],
   "source": [
    "text = read_file('../Data/whatsapplog_smoldata.txt')"
   ]
  },
  {
   "cell_type": "code",
   "execution_count": 5,
   "metadata": {
    "collapsed": false
   },
   "outputs": [
    {
     "data": {
      "text/html": [
       "<div>\n",
       "<table border=\"1\" class=\"dataframe\">\n",
       "  <thead>\n",
       "    <tr style=\"text-align: right;\">\n",
       "      <th></th>\n",
       "      <th>datetime</th>\n",
       "      <th>message</th>\n",
       "      <th>name</th>\n",
       "    </tr>\n",
       "  </thead>\n",
       "  <tbody>\n",
       "    <tr>\n",
       "      <th>0</th>\n",
       "      <td>29/08/2018, 16:57</td>\n",
       "      <td>And any tomato?</td>\n",
       "      <td>David</td>\n",
       "    </tr>\n",
       "    <tr>\n",
       "      <th>1</th>\n",
       "      <td>29/08/2018, 16:58</td>\n",
       "      <td>yep</td>\n",
       "      <td>Iubire</td>\n",
       "    </tr>\n",
       "    <tr>\n",
       "      <th>2</th>\n",
       "      <td>29/08/2018, 16:59</td>\n",
       "      <td>Nice</td>\n",
       "      <td>David</td>\n",
       "    </tr>\n",
       "    <tr>\n",
       "      <th>3</th>\n",
       "      <td>29/08/2018, 16:59</td>\n",
       "      <td>Omw</td>\n",
       "      <td>David</td>\n",
       "    </tr>\n",
       "    <tr>\n",
       "      <th>4</th>\n",
       "      <td>29/08/2018, 17:00</td>\n",
       "      <td>&lt;Media omitted&gt;</td>\n",
       "      <td>David</td>\n",
       "    </tr>\n",
       "  </tbody>\n",
       "</table>\n",
       "</div>"
      ],
      "text/plain": [
       "            datetime          message    name\n",
       "0  29/08/2018, 16:57  And any tomato?   David\n",
       "1  29/08/2018, 16:58              yep  Iubire\n",
       "2  29/08/2018, 16:59             Nice   David\n",
       "3  29/08/2018, 16:59              Omw   David\n",
       "4  29/08/2018, 17:00  <Media omitted>   David"
      ]
     },
     "execution_count": 5,
     "metadata": {},
     "output_type": "execute_result"
    }
   ],
   "source": [
    "clean_dataset(text).head()"
   ]
  },
  {
   "cell_type": "markdown",
   "metadata": {},
   "source": [
    "## Annex: Useful Code"
   ]
  },
  {
   "cell_type": "markdown",
   "metadata": {},
   "source": [
    "Code for dealing with timestamp data. For later use."
   ]
  },
  {
   "cell_type": "code",
   "execution_count": null,
   "metadata": {
    "collapsed": false
   },
   "outputs": [],
   "source": [
    "timestamp = \"02/09/2018, 16:43\"\n",
    "timestamp = header[0:17]\n",
    "dt = datetime.strptime(timestamp, '%d/%m/%Y, %H:%M')\n",
    "dt.year"
   ]
  },
  {
   "cell_type": "code",
   "execution_count": null,
   "metadata": {
    "collapsed": true
   },
   "outputs": [],
   "source": []
  }
 ],
 "metadata": {
  "kernelspec": {
   "display_name": "Python 3",
   "language": "python",
   "name": "python3"
  },
  "language_info": {
   "codemirror_mode": {
    "name": "ipython",
    "version": 3
   },
   "file_extension": ".py",
   "mimetype": "text/x-python",
   "name": "python",
   "nbconvert_exporter": "python",
   "pygments_lexer": "ipython3",
   "version": "3.6.0"
  }
 },
 "nbformat": 4,
 "nbformat_minor": 2
}
