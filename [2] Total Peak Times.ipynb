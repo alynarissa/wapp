{
 "cells": [
  {
   "cell_type": "markdown",
   "metadata": {},
   "source": [
    "# Time and Word Counting"
   ]
  },
  {
   "cell_type": "code",
   "execution_count": 47,
   "metadata": {},
   "outputs": [],
   "source": [
    "import numpy as np\n",
    "import pandas as pd\n",
    "import matplotlib.pyplot as plt\n",
    "import re"
   ]
  },
  {
   "cell_type": "code",
   "execution_count": 48,
   "metadata": {},
   "outputs": [],
   "source": [
    "df = pd.read_csv('../data/clean_whatsapp.csv')"
   ]
  },
  {
   "cell_type": "code",
   "execution_count": 49,
   "metadata": {},
   "outputs": [],
   "source": [
    "'''Using regular expressions to apply a word count on every message'''\n",
    "\n",
    "#Count\n",
    "def word_count(line):\n",
    "    wordCount = len(re.findall(r'\\w+', line))\n",
    "    return wordCount\n",
    "\n",
    "#Append\n",
    "df['wordcount'] = df['message'].apply(word_count)\n",
    "\n",
    "#plot\n",
    "df['wordcount'].plot()"
   ]
  },
  {
   "cell_type": "code",
   "execution_count": 52,
   "metadata": {},
   "outputs": [],
   "source": [
    "'''For datetime to be used for grouping we need to convert the string to a recognised datetime format'''\n",
    "\n",
    "df['datetime'] = pd.to_datetime(df['datetime'], format='%d/%m/%Y, %H:%S')"
   ]
  },
  {
   "cell_type": "code",
   "execution_count": 168,
   "metadata": {},
   "outputs": [],
   "source": [
    "'''The following function takes a dataframe containing messages and a datetime and groups and sums the total\n",
    "messages. It then returns a graph of the output and a dataframe containing message data per hour starting at\n",
    "00:00. It contains columns for each chat memeber as well as a cumulative total'''\n",
    "\n",
    "\n",
    "def average_day(df):\n",
    "    \n",
    "    time_df = pd.DataFrame(index = np.arange(24))    #create a blank indexed dataframe\n",
    "    nameList = df['name'].unique()    #get a list of users\n",
    "    timePeriod = len(df['datetime'].dt.date.unique())    #get the number of days the chat log is over\n",
    "    \n",
    "    for names in nameList:\n",
    "        output = pd.DataFrame(df.loc[df['name']== names].groupby(df['datetime'].dt.hour)['message'].count())\n",
    "        time_df[names] = output['message']/timePeriod\n",
    "    time_df['Total'] = time_df.sum(axis = 1)    #disable for chats with lots of members!\n",
    "   \n",
    "    plt.plot(time_df)    #plot the dataframe to compare users and the total\n",
    "    plt.title(\"Hourly Average\")\n",
    "    plt.legend(nameList)\n",
    "    plt.xlabel(\"Hour\")\n",
    "    plt.ylabel(\"Messages\")\n",
    "    \n",
    "    return time_df    #return the associated data frame"
   ]
  },
  {
   "cell_type": "markdown",
   "metadata": {},
   "source": [
    "## Looking at Outputs"
   ]
  },
  {
   "cell_type": "code",
   "execution_count": 169,
   "metadata": {},
   "outputs": [
    {
     "data": {
      "text/html": [
       "<div>\n",
       "<style scoped>\n",
       "    .dataframe tbody tr th:only-of-type {\n",
       "        vertical-align: middle;\n",
       "    }\n",
       "\n",
       "    .dataframe tbody tr th {\n",
       "        vertical-align: top;\n",
       "    }\n",
       "\n",
       "    .dataframe thead th {\n",
       "        text-align: right;\n",
       "    }\n",
       "</style>\n",
       "<table border=\"1\" class=\"dataframe\">\n",
       "  <thead>\n",
       "    <tr style=\"text-align: right;\">\n",
       "      <th></th>\n",
       "      <th>David</th>\n",
       "      <th>Iubire</th>\n",
       "      <th>Total</th>\n",
       "    </tr>\n",
       "  </thead>\n",
       "  <tbody>\n",
       "    <tr>\n",
       "      <th>0</th>\n",
       "      <td>2.870229</td>\n",
       "      <td>3.129771</td>\n",
       "      <td>6.000000</td>\n",
       "    </tr>\n",
       "    <tr>\n",
       "      <th>1</th>\n",
       "      <td>1.610687</td>\n",
       "      <td>1.961832</td>\n",
       "      <td>3.572519</td>\n",
       "    </tr>\n",
       "    <tr>\n",
       "      <th>2</th>\n",
       "      <td>0.343511</td>\n",
       "      <td>0.595420</td>\n",
       "      <td>0.938931</td>\n",
       "    </tr>\n",
       "    <tr>\n",
       "      <th>3</th>\n",
       "      <td>0.183206</td>\n",
       "      <td>0.450382</td>\n",
       "      <td>0.633588</td>\n",
       "    </tr>\n",
       "    <tr>\n",
       "      <th>4</th>\n",
       "      <td>0.236641</td>\n",
       "      <td>0.244275</td>\n",
       "      <td>0.480916</td>\n",
       "    </tr>\n",
       "  </tbody>\n",
       "</table>\n",
       "</div>"
      ],
      "text/plain": [
       "      David    Iubire     Total\n",
       "0  2.870229  3.129771  6.000000\n",
       "1  1.610687  1.961832  3.572519\n",
       "2  0.343511  0.595420  0.938931\n",
       "3  0.183206  0.450382  0.633588\n",
       "4  0.236641  0.244275  0.480916"
      ]
     },
     "execution_count": 169,
     "metadata": {},
     "output_type": "execute_result"
    },
    {
     "data": {
      "image/png": "[encoded data removed]",
      "text/plain": [
       "<Figure size 432x288 with 1 Axes>"
      ]
     },
     "metadata": {
      "needs_background": "light"
     },
     "output_type": "display_data"
    }
   ],
   "source": [
    "hour_df = average_day(df)\n",
    "hour_df.head()"
   ]
  }
 ],
 "metadata": {
  "kernelspec": {
   "display_name": "Python 3",
   "language": "python",
   "name": "python3"
  },
  "language_info": {
   "codemirror_mode": {
    "name": "ipython",
    "version": 3
   },
   "file_extension": ".py",
   "mimetype": "text/x-python",
   "name": "python",
   "nbconvert_exporter": "python",
   "pygments_lexer": "ipython3",
   "version": "3.7.1"
  }
 },
 "nbformat": 4,
 "nbformat_minor": 2
}
